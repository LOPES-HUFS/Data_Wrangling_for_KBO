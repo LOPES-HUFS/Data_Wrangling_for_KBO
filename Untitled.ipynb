{
 "cells": [
  {
   "cell_type": "code",
   "execution_count": 1,
   "metadata": {},
   "outputs": [],
   "source": [
    "import pandas as pd"
   ]
  },
  {
   "cell_type": "code",
   "execution_count": 2,
   "metadata": {},
   "outputs": [
    {
     "name": "stdout",
     "output_type": "stream",
     "text": [
      "Hanhwa_game_id_sample.csv  player_info_list.csv\r\n",
      "KBO_factor_list.csv        player_list.csv\r\n",
      "KBO_game_schedule.csv      renamed_player_list.csv\r\n",
      "all_player_list.csv        temp_data_2020.json\r\n",
      "fixed_gameid.csv           temp_schedule_2020.csv\r\n"
     ]
    }
   ],
   "source": [
    "ls data/"
   ]
  },
  {
   "cell_type": "code",
   "execution_count": 3,
   "metadata": {},
   "outputs": [],
   "source": [
    "import json\n",
    "import re"
   ]
  },
  {
   "cell_type": "code",
   "execution_count": 4,
   "metadata": {},
   "outputs": [],
   "source": [
    "import games\n",
    "import game_info\n",
    "import single_game"
   ]
  },
  {
   "cell_type": "code",
   "execution_count": null,
   "metadata": {},
   "outputs": [],
   "source": [
    "# with statement\n",
    "file_name = 'data/temp_data_8.json'\n",
    "with open(file_name) as json_file:\n",
    "    temp_data_8 = json.load(json_file)"
   ]
  },
  {
   "cell_type": "code",
   "execution_count": null,
   "metadata": {},
   "outputs": [],
   "source": [
    "temp_data_8"
   ]
  },
  {
   "cell_type": "code",
   "execution_count": null,
   "metadata": {},
   "outputs": [],
   "source": [
    "scoreboard_8 = games.making_scoreboard(temp_data_8)"
   ]
  },
  {
   "cell_type": "code",
   "execution_count": null,
   "metadata": {},
   "outputs": [],
   "source": [
    "scoreboard_8"
   ]
  },
  {
   "cell_type": "code",
   "execution_count": null,
   "metadata": {},
   "outputs": [],
   "source": [
    "file_name = 'data/temp_data_9.json'\n",
    "with open(file_name) as json_file:\n",
    "    temp_data_9 = json.load(json_file)"
   ]
  },
  {
   "cell_type": "code",
   "execution_count": null,
   "metadata": {},
   "outputs": [],
   "source": [
    "scoreboard_9 = games.making_scoreboard(temp_data_9)"
   ]
  },
  {
   "cell_type": "code",
   "execution_count": null,
   "metadata": {},
   "outputs": [],
   "source": [
    "scoreboard_9"
   ]
  },
  {
   "cell_type": "code",
   "execution_count": 5,
   "metadata": {},
   "outputs": [],
   "source": [
    "temp_data = single_game.get_data('20160810','LTNC0')\n",
    "temp_data = single_game.modify_data(temp_data)"
   ]
  },
  {
   "cell_type": "code",
   "execution_count": null,
   "metadata": {},
   "outputs": [],
   "source": [
    "#data.update(temp_data)"
   ]
  },
  {
   "cell_type": "code",
   "execution_count": 6,
   "metadata": {},
   "outputs": [],
   "source": [
    "month_data = game_info.get_data(2020, 11, \"정규\")\n",
    "game_id_month = game_info.modify_data(2020, month_data)"
   ]
  },
  {
   "cell_type": "code",
   "execution_count": 7,
   "metadata": {},
   "outputs": [
    {
     "data": {
      "text/html": [
       "<div>\n",
       "<style scoped>\n",
       "    .dataframe tbody tr th:only-of-type {\n",
       "        vertical-align: middle;\n",
       "    }\n",
       "\n",
       "    .dataframe tbody tr th {\n",
       "        vertical-align: top;\n",
       "    }\n",
       "\n",
       "    .dataframe thead th {\n",
       "        text-align: right;\n",
       "    }\n",
       "</style>\n",
       "<table border=\"1\" class=\"dataframe\">\n",
       "  <thead>\n",
       "    <tr style=\"text-align: right;\">\n",
       "      <th></th>\n",
       "      <th>date</th>\n",
       "      <th>away</th>\n",
       "      <th>home</th>\n",
       "      <th>gameid</th>\n",
       "    </tr>\n",
       "  </thead>\n",
       "  <tbody>\n",
       "    <tr>\n",
       "      <th>0</th>\n",
       "      <td>20201001</td>\n",
       "      <td>LT</td>\n",
       "      <td>LG</td>\n",
       "      <td>LTLG0</td>\n",
       "    </tr>\n",
       "    <tr>\n",
       "      <th>1</th>\n",
       "      <td>20201001</td>\n",
       "      <td>KT</td>\n",
       "      <td>SS</td>\n",
       "      <td>KTSS0</td>\n",
       "    </tr>\n",
       "    <tr>\n",
       "      <th>2</th>\n",
       "      <td>20201001</td>\n",
       "      <td>SK</td>\n",
       "      <td>NC</td>\n",
       "      <td>SKNC0</td>\n",
       "    </tr>\n",
       "    <tr>\n",
       "      <th>3</th>\n",
       "      <td>20201001</td>\n",
       "      <td>HT</td>\n",
       "      <td>WO</td>\n",
       "      <td>HTWO0</td>\n",
       "    </tr>\n",
       "    <tr>\n",
       "      <th>4</th>\n",
       "      <td>20201001</td>\n",
       "      <td>OB</td>\n",
       "      <td>HH</td>\n",
       "      <td>OBHH0</td>\n",
       "    </tr>\n",
       "    <tr>\n",
       "      <th>...</th>\n",
       "      <td>...</td>\n",
       "      <td>...</td>\n",
       "      <td>...</td>\n",
       "      <td>...</td>\n",
       "    </tr>\n",
       "    <tr>\n",
       "      <th>114</th>\n",
       "      <td>20201030</td>\n",
       "      <td>LG</td>\n",
       "      <td>SK</td>\n",
       "      <td>LGSK0</td>\n",
       "    </tr>\n",
       "    <tr>\n",
       "      <th>115</th>\n",
       "      <td>20201030</td>\n",
       "      <td>HT</td>\n",
       "      <td>LT</td>\n",
       "      <td>HTLT0</td>\n",
       "    </tr>\n",
       "    <tr>\n",
       "      <th>116</th>\n",
       "      <td>20201030</td>\n",
       "      <td>NC</td>\n",
       "      <td>SS</td>\n",
       "      <td>NCSS0</td>\n",
       "    </tr>\n",
       "    <tr>\n",
       "      <th>117</th>\n",
       "      <td>20201030</td>\n",
       "      <td>KT</td>\n",
       "      <td>HH</td>\n",
       "      <td>KTHH0</td>\n",
       "    </tr>\n",
       "    <tr>\n",
       "      <th>118</th>\n",
       "      <td>20201031</td>\n",
       "      <td>NC</td>\n",
       "      <td>HT</td>\n",
       "      <td>NCHT0</td>\n",
       "    </tr>\n",
       "  </tbody>\n",
       "</table>\n",
       "<p>119 rows × 4 columns</p>\n",
       "</div>"
      ],
      "text/plain": [
       "         date away home gameid\n",
       "0    20201001   LT   LG  LTLG0\n",
       "1    20201001   KT   SS  KTSS0\n",
       "2    20201001   SK   NC  SKNC0\n",
       "3    20201001   HT   WO  HTWO0\n",
       "4    20201001   OB   HH  OBHH0\n",
       "..        ...  ...  ...    ...\n",
       "114  20201030   LG   SK  LGSK0\n",
       "115  20201030   HT   LT  HTLT0\n",
       "116  20201030   NC   SS  NCSS0\n",
       "117  20201030   KT   HH  KTHH0\n",
       "118  20201031   NC   HT  NCHT0\n",
       "\n",
       "[119 rows x 4 columns]"
      ]
     },
     "execution_count": 7,
     "metadata": {},
     "output_type": "execute_result"
    }
   ],
   "source": [
    "game_id_month"
   ]
  },
  {
   "cell_type": "code",
   "execution_count": 8,
   "metadata": {},
   "outputs": [
    {
     "name": "stdout",
     "output_type": "stream",
     "text": [
      "Download complete: 0 20201001 LTLG0\n",
      "Download complete: 1 20201001 KTSS0\n",
      "Download complete: 2 20201001 SKNC0\n",
      "Download complete: 3 20201001 HTWO0\n",
      "Download complete: 4 20201001 OBHH0\n",
      "Download complete: 5 20201002 HTOB0\n",
      "Download complete: 6 20201002 WOSK0\n",
      "Download complete: 7 20201002 HHLT0\n",
      "Download complete: 8 20201002 SSNC0\n",
      "Download complete: 9 20201002 LGKT0\n",
      "Download complete: 10 20201003 HTOB0\n",
      "Download complete: 11 20201003 WOSK0\n",
      "Download complete: 12 20201003 HHLT0\n",
      "Download complete: 13 20201003 SSNC1\n",
      "Download complete: 14 20201003 LGKT2\n",
      "Download complete: 15 20201003 SSNC1\n",
      "Download complete: 16 20201003 LGKT2\n",
      "Download complete: 17 20201004 HTOB0\n",
      "Download complete: 18 20201004 WOSK0\n",
      "Download complete: 19 20201004 HHLT0\n",
      "Download complete: 20 20201004 SSNC0\n",
      "Download complete: 21 20201004 LGKT0\n",
      "Download complete: 22 20201006 SSLG0\n",
      "Download complete: 23 20201006 OBSK0\n",
      "Download complete: 24 20201006 KTLT0\n",
      "Download complete: 25 20201006 HHHT0\n",
      "Download complete: 26 20201006 NCWO0\n",
      "Download complete: 27 20201007 HHHT1\n",
      "Download complete: 28 20201007 HHHT2\n",
      "Download complete: 29 20201007 SSLG0\n",
      "Download complete: 30 20201007 OBSK0\n",
      "Download complete: 31 20201007 KTLT0\n",
      "Download complete: 32 20201007 NCWO0\n",
      "Download complete: 33 20201008 SSLG0\n",
      "Download complete: 34 20201008 OBSK0\n",
      "Download complete: 35 20201008 KTLT0\n",
      "Download complete: 36 20201008 HHHT0\n",
      "Download complete: 37 20201008 NCWO0\n",
      "Download complete: 38 20201009 NCLG0\n",
      "Download complete: 39 20201009 LTSS0\n",
      "Download complete: 40 20201009 OBKT0\n",
      "Download complete: 41 20201009 SKHT0\n",
      "Download complete: 42 20201009 WOHH0\n",
      "Download complete: 43 20201010 NCLG1\n",
      "Download complete: 44 20201010 LTSS0\n",
      "Download complete: 45 20201010 OBKT0\n",
      "Download complete: 46 20201010 SKHT0\n",
      "Download complete: 47 20201010 WOHH0\n",
      "Download complete: 48 20201010 NCLG2\n",
      "Download complete: 49 20201011 NCLG0\n",
      "Download complete: 50 20201011 LTSS0\n",
      "Download complete: 51 20201011 OBKT0\n",
      "Download complete: 52 20201011 SKHT0\n",
      "Download complete: 53 20201011 WOHH0\n",
      "Download complete: 54 20201013 HHOB0\n",
      "Download complete: 55 20201013 LGLT0\n",
      "Download complete: 56 20201013 SKSS0\n",
      "Download complete: 57 20201013 HTNC0\n",
      "Download complete: 58 20201013 WOKT0\n",
      "Download complete: 59 20201014 HHOB0\n",
      "Download complete: 60 20201014 LGLT0\n",
      "Download complete: 61 20201014 SKSS0\n",
      "Download complete: 62 20201014 HTNC0\n",
      "Download complete: 63 20201014 WOKT0\n",
      "Download complete: 64 20201015 HHOB0\n",
      "Download complete: 65 20201015 LGLT0\n",
      "Download complete: 66 20201015 SKSS0\n",
      "Download complete: 67 20201015 HTNC0\n",
      "Download complete: 68 20201015 WOKT0\n",
      "Download complete: 69 20201016 HTLG0\n",
      "Download complete: 70 20201016 KTSK0\n",
      "Download complete: 71 20201016 LTNC0\n",
      "Download complete: 72 20201016 OBWO0\n",
      "Download complete: 73 20201016 SSHH0\n",
      "Download complete: 74 20201017 SSHH1\n",
      "Download complete: 75 20201017 HTLG0\n",
      "Download complete: 76 20201017 KTSK0\n",
      "Download complete: 77 20201017 LTNC0\n",
      "Download complete: 78 20201017 OBWO0\n",
      "Download complete: 79 20201017 SSHH2\n",
      "Download complete: 80 20201018 HTLG0\n",
      "Download complete: 81 20201018 KTSK0\n",
      "Download complete: 82 20201018 LTNC0\n",
      "Download complete: 83 20201018 OBWO0\n",
      "Download complete: 84 20201018 SSHH0\n",
      "Download complete: 85 20201020 SSSK0\n",
      "Download complete: 86 20201020 OBLT0\n",
      "Download complete: 87 20201020 LGKT0\n",
      "Download complete: 88 20201020 NCHT0\n",
      "Download complete: 89 20201021 LTSK0\n",
      "Download complete: 90 20201021 SSKT0\n",
      "Download complete: 91 20201022 KTOB0\n",
      "Download complete: 92 20201022 LTSK0\n",
      "Download complete: 93 20201022 HTHH0\n",
      "Download complete: 94 20201023 WOOB0\n",
      "Download complete: 95 20201023 LTSK0\n",
      "Download complete: 96 20201023 LGHT0\n",
      "Download complete: 97 20201023 NCHH0\n",
      "Download complete: 98 20201024 LTOB0\n",
      "Download complete: 99 20201024 LGNC0\n",
      "Download complete: 100 20201024 SSHT0\n",
      "Download complete: 101 20201025 LTKT0\n",
      "Download complete: 102 20201025 SSHT0\n",
      "Download complete: 103 20201027 HHOB0\n",
      "Download complete: 104 20201027 SKLT0\n",
      "Download complete: 105 20201027 SSNC0\n",
      "Download complete: 106 20201027 KTHT0\n",
      "Download complete: 107 20201028 HHLG0\n",
      "Download complete: 108 20201028 NCLT0\n",
      "Download complete: 109 20201028 KTHT0\n",
      "Download complete: 110 20201029 NCLT0\n",
      "Download complete: 111 20201029 OBHT0\n",
      "Download complete: 112 20201029 KTHH0\n",
      "Download complete: 113 20201030 WOOB0\n",
      "Download complete: 114 20201030 LGSK0\n",
      "Download complete: 115 20201030 HTLT0\n",
      "Download complete: 116 20201030 NCSS0\n",
      "Download complete: 117 20201030 KTHH0\n",
      "Download complete: 118 20201031 NCHT0\n"
     ]
    }
   ],
   "source": [
    "data = games.get_data(game_id_month)"
   ]
  },
  {
   "cell_type": "code",
   "execution_count": 11,
   "metadata": {},
   "outputs": [],
   "source": [
    "file_name = 'data/temp_data_2020_10.json'\n",
    "with open(file_name, 'w') as outfile:\n",
    "    json.dump(data, outfile)"
   ]
  },
  {
   "cell_type": "code",
   "execution_count": 9,
   "metadata": {},
   "outputs": [],
   "source": [
    "temp_data = game_id_month[['date','gameid']]\n",
    "temp_data.to_csv(\"data/temp_schedule_2020_10.csv\", index = False)"
   ]
  },
  {
   "cell_type": "code",
   "execution_count": null,
   "metadata": {},
   "outputs": [],
   "source": [
    "kbo_id_temp_3=pd.read_csv(\"./data/temp_schedule_2008_3.csv\")"
   ]
  },
  {
   "cell_type": "code",
   "execution_count": null,
   "metadata": {},
   "outputs": [],
   "source": [
    "kbo_id_temp_4=pd.read_csv(\"./data/temp_schedule_2008_4.csv\")"
   ]
  },
  {
   "cell_type": "code",
   "execution_count": null,
   "metadata": {},
   "outputs": [],
   "source": [
    "kbo_id_temp_5=pd.read_csv(\"./data/temp_schedule_2008_5.csv\")"
   ]
  },
  {
   "cell_type": "code",
   "execution_count": null,
   "metadata": {},
   "outputs": [],
   "source": [
    "kbo_id_temp_6=pd.read_csv(\"./data/temp_schedule_2008_6.csv\")"
   ]
  },
  {
   "cell_type": "code",
   "execution_count": null,
   "metadata": {},
   "outputs": [],
   "source": [
    "kbo_id_temp_7=pd.read_csv(\"./data/temp_schedule_2008_7.csv\")"
   ]
  },
  {
   "cell_type": "code",
   "execution_count": null,
   "metadata": {},
   "outputs": [],
   "source": [
    "kbo_id_temp_8=pd.read_csv(\"./data/temp_schedule_2008_8.csv\")"
   ]
  },
  {
   "cell_type": "code",
   "execution_count": null,
   "metadata": {},
   "outputs": [],
   "source": [
    "kbo_id_temp_9=pd.read_csv(\"./data/temp_schedule_2008_9.csv\")"
   ]
  },
  {
   "cell_type": "code",
   "execution_count": null,
   "metadata": {},
   "outputs": [],
   "source": [
    "kbo_id_temp_10=pd.read_csv(\"./data/temp_schedule_2008_10.csv\")"
   ]
  },
  {
   "cell_type": "code",
   "execution_count": null,
   "metadata": {},
   "outputs": [],
   "source": [
    "frames = [kbo_id_temp_4, kbo_id_temp_5, \\\n",
    "    kbo_id_temp_6, kbo_id_temp_7, kbo_id_temp_8, \\\n",
    "    kbo_id_temp_9]"
   ]
  },
  {
   "cell_type": "code",
   "execution_count": null,
   "metadata": {},
   "outputs": [],
   "source": [
    "frames = [\n",
    "    kbo_id_temp_3, kbo_id_temp_4, kbo_id_temp_5, \\\n",
    "    kbo_id_temp_6, kbo_id_temp_7, kbo_id_temp_8, \\\n",
    "    kbo_id_temp_9, kbo_id_temp_10]"
   ]
  },
  {
   "cell_type": "code",
   "execution_count": null,
   "metadata": {},
   "outputs": [],
   "source": [
    "kbo_id_full = pd.concat(frames)\n",
    "kbo_id_full = kbo_id_full.reset_index(drop=True)"
   ]
  },
  {
   "cell_type": "code",
   "execution_count": null,
   "metadata": {},
   "outputs": [],
   "source": [
    "kbo_id_full"
   ]
  },
  {
   "cell_type": "code",
   "execution_count": null,
   "metadata": {},
   "outputs": [],
   "source": [
    "kbo_id_full.to_csv(\"data/temp_schedule_2008.csv\", index = False)"
   ]
  },
  {
   "cell_type": "code",
   "execution_count": null,
   "metadata": {},
   "outputs": [],
   "source": [
    "temp_full = {}"
   ]
  },
  {
   "cell_type": "code",
   "execution_count": 10,
   "metadata": {},
   "outputs": [
    {
     "ename": "FileNotFoundError",
     "evalue": "[Errno 2] No such file or directory: 'data/temp_data_2008_10.json'",
     "output_type": "error",
     "traceback": [
      "\u001b[0;31m---------------------------------------------------------------------------\u001b[0m",
      "\u001b[0;31mFileNotFoundError\u001b[0m                         Traceback (most recent call last)",
      "\u001b[0;32m<ipython-input-10-f5694f834489>\u001b[0m in \u001b[0;36m<module>\u001b[0;34m\u001b[0m\n\u001b[1;32m      1\u001b[0m \u001b[0mfile_name\u001b[0m \u001b[0;34m=\u001b[0m \u001b[0;34m\"data/temp_data_2008_10.json\"\u001b[0m\u001b[0;34m\u001b[0m\u001b[0;34m\u001b[0m\u001b[0m\n\u001b[1;32m      2\u001b[0m \u001b[0;34m\u001b[0m\u001b[0m\n\u001b[0;32m----> 3\u001b[0;31m \u001b[0;32mwith\u001b[0m \u001b[0mopen\u001b[0m\u001b[0;34m(\u001b[0m\u001b[0mfile_name\u001b[0m\u001b[0;34m)\u001b[0m \u001b[0;32mas\u001b[0m \u001b[0mjson_file\u001b[0m\u001b[0;34m:\u001b[0m\u001b[0;34m\u001b[0m\u001b[0;34m\u001b[0m\u001b[0m\n\u001b[0m\u001b[1;32m      4\u001b[0m     \u001b[0mtemp_data_add\u001b[0m \u001b[0;34m=\u001b[0m \u001b[0mjson\u001b[0m\u001b[0;34m.\u001b[0m\u001b[0mload\u001b[0m\u001b[0;34m(\u001b[0m\u001b[0mjson_file\u001b[0m\u001b[0;34m)\u001b[0m\u001b[0;34m\u001b[0m\u001b[0;34m\u001b[0m\u001b[0m\n",
      "\u001b[0;31mFileNotFoundError\u001b[0m: [Errno 2] No such file or directory: 'data/temp_data_2008_10.json'"
     ]
    }
   ],
   "source": [
    "file_name = \"data/temp_data_2008_10.json\"\n",
    "\n",
    "with open(file_name) as json_file:\n",
    "    temp_data_add = json.load(json_file)"
   ]
  },
  {
   "cell_type": "code",
   "execution_count": null,
   "metadata": {},
   "outputs": [],
   "source": [
    "temp_full.update(temp_data_add)"
   ]
  },
  {
   "cell_type": "code",
   "execution_count": null,
   "metadata": {},
   "outputs": [],
   "source": [
    "temp_full"
   ]
  },
  {
   "cell_type": "code",
   "execution_count": null,
   "metadata": {},
   "outputs": [],
   "source": [
    "temp_file_name = \"./data/temp_data_2008.json\"\n",
    "\n",
    "with open(temp_file_name, 'w') as outfile:  \n",
    "    json.dump(temp_full, outfile)"
   ]
  },
  {
   "cell_type": "markdown",
   "metadata": {},
   "source": [
    "## 원래 있던 것에 추가하기 위한 코드\n",
    "\n",
    "경기는 매일 진행되기 때문에 자료를 수집하기 위해서는 당일 경기가 다 끝난 다음에 당일 경기 자료를 수집해서 갱신하는 것이 정석이다. 그러나 그렇게 부지런하게 일을 하는 것이 쉽지 않다. 일주일마다 하는 것도 쉽지 않다. 그래서 현재 파일을 월 단위로 만들어서 자료를 수집하고 저장한 다음, 이를 갱신하는 방법으로 자료를 수집하고 있다. 아래 코드는 9월 파일을 만들어 자료를 갱신하는 것을 소개하고자 한다. 현재 9월 파일인 `temp_data_9.json`에는 9월 16일자 자료까지 들어있다. 9월 게임 일정을 다시 갱신할 필요가 있다. "
   ]
  },
  {
   "cell_type": "code",
   "execution_count": null,
   "metadata": {},
   "outputs": [],
   "source": [
    "file_name = \"data/temp_data_9.json\"\n",
    "\n",
    "with open(file_name) as json_file:\n",
    "    temp_data_until_16 = json.load(json_file)"
   ]
  },
  {
   "cell_type": "code",
   "execution_count": null,
   "metadata": {},
   "outputs": [],
   "source": [
    "game_id_month[66:]"
   ]
  },
  {
   "cell_type": "code",
   "execution_count": null,
   "metadata": {},
   "outputs": [],
   "source": [
    "data_1 = games.get_data(game_id_month, number=66)"
   ]
  },
  {
   "cell_type": "code",
   "execution_count": null,
   "metadata": {},
   "outputs": [],
   "source": [
    "temp_data_until_16.update(data_1)"
   ]
  },
  {
   "cell_type": "code",
   "execution_count": null,
   "metadata": {},
   "outputs": [],
   "source": [
    "file_name = 'data/temp_data_2020_9.json'\n",
    "with open(file_name, 'w') as outfile:\n",
    "    json.dump(temp_data_until_16, outfile)"
   ]
  },
  {
   "cell_type": "markdown",
   "metadata": {},
   "source": [
    "## 연 자료에 월 자료 추가\n",
    "\n",
    "앞에서 만든 월 자료를 가지고 연 자료에 추가해 보겠다. 현재 2020년 자료가 9월 자료까지 있다고 가정하겠다. 거기에 10월 자료를 추가해보겠다. 기본적인 방법은 우선 2020년 자료가 들어 있는 파일과 10월 자료가 들어있는 파일을 열고, 10월 자료를 가지고 2020년 자료를 갱신한 다음, 2020년 자료를 `temp_data_2020.json`에 저장하도록 하겠습니다. 갱신할 파일은 `temp_data_2020.json`, `temp_schedule_2020`, 총 2개입니다."
   ]
  },
  {
   "cell_type": "code",
   "execution_count": 13,
   "metadata": {},
   "outputs": [],
   "source": [
    "file_name = \"data/temp_data_2020.json\"\n",
    "\n",
    "with open(file_name) as json_file:\n",
    "    temp_data_2020 = json.load(json_file)"
   ]
  },
  {
   "cell_type": "code",
   "execution_count": 14,
   "metadata": {},
   "outputs": [],
   "source": [
    "file_name = \"data/temp_data_2020_10.json\"\n",
    "\n",
    "with open(file_name) as json_file:\n",
    "    temp_data_2020_10 = json.load(json_file)"
   ]
  },
  {
   "cell_type": "code",
   "execution_count": 15,
   "metadata": {},
   "outputs": [],
   "source": [
    "temp_data_2020.update(temp_data_2020_10)"
   ]
  },
  {
   "cell_type": "code",
   "execution_count": 16,
   "metadata": {},
   "outputs": [],
   "source": [
    "file_name = 'data/temp_data_2020.json'\n",
    "with open(file_name, 'w') as outfile:\n",
    "    json.dump(temp_data_2020, outfile)"
   ]
  },
  {
   "cell_type": "code",
   "execution_count": 17,
   "metadata": {},
   "outputs": [],
   "source": [
    "kbo_id_temp_2020=pd.read_csv(\"./data/temp_schedule_2020.csv\")"
   ]
  },
  {
   "cell_type": "code",
   "execution_count": 18,
   "metadata": {},
   "outputs": [],
   "source": [
    "kbo_id_temp_9=pd.read_csv(\"./data/temp_schedule_2020_10.csv\")"
   ]
  },
  {
   "cell_type": "code",
   "execution_count": 19,
   "metadata": {},
   "outputs": [],
   "source": [
    "frames = [kbo_id_temp_2020, kbo_id_temp_9]"
   ]
  },
  {
   "cell_type": "code",
   "execution_count": 20,
   "metadata": {},
   "outputs": [],
   "source": [
    "kbo_id_full = pd.concat(frames)\n",
    "kbo_id_full = kbo_id_full.reset_index(drop=True)"
   ]
  },
  {
   "cell_type": "code",
   "execution_count": 21,
   "metadata": {},
   "outputs": [],
   "source": [
    "kbo_id_full.to_csv(\"data/temp_schedule_2020.csv\", index = False)"
   ]
  },
  {
   "cell_type": "code",
   "execution_count": null,
   "metadata": {},
   "outputs": [],
   "source": []
  }
 ],
 "metadata": {
  "kernelspec": {
   "display_name": "Python 3",
   "language": "python",
   "name": "python3"
  },
  "language_info": {
   "codemirror_mode": {
    "name": "ipython",
    "version": 3
   },
   "file_extension": ".py",
   "mimetype": "text/x-python",
   "name": "python",
   "nbconvert_exporter": "python",
   "pygments_lexer": "ipython3",
   "version": "3.8.6"
  }
 },
 "nbformat": 4,
 "nbformat_minor": 4
}
